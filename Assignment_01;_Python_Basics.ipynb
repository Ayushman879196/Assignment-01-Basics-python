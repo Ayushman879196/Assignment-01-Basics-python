{
  "nbformat": 4,
  "nbformat_minor": 0,
  "metadata": {
    "colab": {
      "provenance": []
    },
    "kernelspec": {
      "name": "python3",
      "display_name": "Python 3"
    },
    "language_info": {
      "name": "python"
    }
  },
  "cells": [
    {
      "cell_type": "markdown",
      "source": [
        "Q1. what is Python, and why is it popular?\n",
        "\n",
        "Ans. Python is a high level,interpreted programming language knows for its simplicity and readability.It is popular due to its wide range of libraries, easy syntax, and strong community support.\n",
        "\n",
        "Q2. What is an interpreter in python?\n",
        "\n",
        "Ans. An interpreter executes python code line and translates it into machine code.\n",
        "\n",
        "Q3. what are pre-defined keywords in python?\n",
        "\n",
        "Ans. Pre-defined keywords are reserved words like if,for,while,def,etc, that have special meaning in python.\n",
        "\n",
        "Q4. Can keywords be used as variable names?\n",
        "\n",
        "Ans. No, keywords cannot be used as variable names.\n",
        "\n",
        "Q5. What is mutability in python?\n",
        "\n",
        "Ans. Mutability refers to whether an object's value can be changed after it's created. Mutable objects can be changed; immutable once cannot.\n",
        "\n",
        "Q6. What are lists mutable, but tuples are immutable?\n",
        "\n",
        "Ans. Lists are designed to store changing data, while tuples are used for fixed data, hence lists are mutable and tuples are not.\n",
        "\n",
        "Q7. What is the difference between == and is operators in python?\n",
        "\n",
        "Ans. == checks value equality.\n",
        "     is checks identity (whether two variable points to the same object)\n",
        "\n",
        "Q8. what are logical operators in python?\n",
        "\n",
        "Ans. and, or, not\n",
        "\n",
        "Q9. what is casting in python?\n",
        "\n",
        "Ans. Type casting converts one data type to another (example , int(\"5\") coverts a string to an integer)\n",
        "\n",
        "Q10. What is the difference between implicit and explicit type casting?\n",
        "\n",
        "Ans. Implicit : Automatically done in python\n",
        "     \n",
        "     Explicit : Done manually using function like int(), float(),etc.\n",
        "\n",
        "Q11. What is the purpose of conditional statement in python?\n",
        "\n",
        "Ans. They are used to perform different action based on different conditions using if , elif, and else.\n",
        "\n",
        "Q12. How does the elif statement works?\n",
        "\n",
        "Ans. It allows checking multiple condition between if and else.\n",
        "\n",
        "Q13. What is the different between for and while loops?\n",
        "\n",
        "Ans. for: used when the number of iteration is known.\n",
        "\n",
        "     while: used when looping until a condition is met.\n",
        "\n",
        "Q14. Describe a Scenario where a while loop is more suitable than a for loop.\n",
        "\n",
        "Ans. When looping until a user enter valid input, since we don't know how many tries it will take.\n",
        "\n"
      ],
      "metadata": {
        "id": "aNc1eZxd5TeZ"
      }
    },
    {
      "cell_type": "code",
      "source": [
        "# PRACTICE QUESTIONS\n",
        "\n",
        "#1. Hello world:\n",
        "\n",
        "print(\"Hello world!\")"
      ],
      "metadata": {
        "colab": {
          "base_uri": "https://localhost:8080/"
        },
        "id": "egmeMMb0ETow",
        "outputId": "c1582e99-f4e3-466f-a21e-f4b4ea840b39"
      },
      "execution_count": 1,
      "outputs": [
        {
          "output_type": "stream",
          "name": "stdout",
          "text": [
            "Hello world!\n"
          ]
        }
      ]
    },
    {
      "cell_type": "code",
      "source": [
        "#2. Display Name and Age:\n",
        "\n",
        "name = 'Ayushman'\n",
        "age = 18\n",
        "print(\"Name:\", name)\n",
        "print(\"Age:\", age)"
      ],
      "metadata": {
        "colab": {
          "base_uri": "https://localhost:8080/"
        },
        "id": "E7L8otPPEyB7",
        "outputId": "076ff8ef-35e4-4762-9702-7cd024be8353"
      },
      "execution_count": 2,
      "outputs": [
        {
          "output_type": "stream",
          "name": "stdout",
          "text": [
            "Name: Ayushman\n",
            "Age: 18\n"
          ]
        }
      ]
    },
    {
      "cell_type": "code",
      "source": [
        "#3. Print all python keywords:\n",
        "\n",
        "import keyword\n",
        "print(keyword.kwlist)"
      ],
      "metadata": {
        "colab": {
          "base_uri": "https://localhost:8080/"
        },
        "id": "F4U05X1EFaAX",
        "outputId": "628a3ffa-5998-4597-d38d-50deb7c29dbc"
      },
      "execution_count": 4,
      "outputs": [
        {
          "output_type": "stream",
          "name": "stdout",
          "text": [
            "['False', 'None', 'True', 'and', 'as', 'assert', 'async', 'await', 'break', 'class', 'continue', 'def', 'del', 'elif', 'else', 'except', 'finally', 'for', 'from', 'global', 'if', 'import', 'in', 'is', 'lambda', 'nonlocal', 'not', 'or', 'pass', 'raise', 'return', 'try', 'while', 'with', 'yield']\n"
          ]
        }
      ]
    },
    {
      "cell_type": "code",
      "source": [
        "#4. Check if a world is a python keyword:\n",
        "\n",
        "import keyword\n",
        "word = input('Enter word: ')\n",
        "print(keyword.iskeyword(word))"
      ],
      "metadata": {
        "colab": {
          "base_uri": "https://localhost:8080/"
        },
        "id": "dpknhbCPF4uL",
        "outputId": "4db72581-fc78-4d47-b0ec-e7d59d53c613"
      },
      "execution_count": 7,
      "outputs": [
        {
          "output_type": "stream",
          "name": "stdout",
          "text": [
            "Enter word: for\n",
            "True\n"
          ]
        }
      ]
    },
    {
      "cell_type": "code",
      "source": [
        "#5. Create list and tuple:\n",
        "\n",
        "my_list =[1,2,3]\n",
        "my_tuple =(1,2,3)\n",
        "print(\"list:\", my_list)\n",
        "print(\"Tuple:\", my_tuple)\n",
        "\n"
      ],
      "metadata": {
        "colab": {
          "base_uri": "https://localhost:8080/"
        },
        "id": "iUD9oYOGH5jb",
        "outputId": "1d8446ef-7825-4ad4-cd86-007c72e74e39"
      },
      "execution_count": 15,
      "outputs": [
        {
          "output_type": "stream",
          "name": "stdout",
          "text": [
            "list: [1, 2, 3]\n",
            "Tuple: (1, 2, 3)\n"
          ]
        }
      ]
    },
    {
      "cell_type": "code",
      "source": [
        "#6. Mutable vs Immutable demo:\n",
        "\n",
        "def modify_arguments(immutable_arg, mutable_arg):\n",
        "    print(\"Inside function before modification:\")\n",
        "    print(\"Immutable argument:\", immutable_arg)\n",
        "    print(\"Mutable argument:\", mutable_arg)\n",
        "\n",
        "    # Try modifying both\n",
        "    immutable_arg += 10           # This creates a new int object\n",
        "    mutable_arg.append(10)        # This modifies the list in place\n",
        "\n",
        "    print(\"\\nInside function after modification:\")\n",
        "    print(\"Immutable argument:\", immutable_arg)\n",
        "    print(\"Mutable argument:\", mutable_arg)\n",
        "\n",
        "\n",
        "# Main program\n",
        "immutable_var = 5\n",
        "mutable_var = [1, 2, 3]\n",
        "\n",
        "print(\"Before function call:\")\n",
        "print(\"Immutable variable:\", immutable_var)\n",
        "print(\"Mutable variable:\", mutable_var)\n",
        "\n",
        "modify_arguments(immutable_var, mutable_var)\n",
        "\n",
        "print(\"\\nAfter function call:\")\n",
        "print(\"Immutable variable:\", immutable_var)\n",
        "print(\"Mutable variable:\", mutable_var)\n"
      ],
      "metadata": {
        "colab": {
          "base_uri": "https://localhost:8080/"
        },
        "id": "Wc82fYFkL_cl",
        "outputId": "df7506b5-d293-4c91-ae88-5dce1bbf2707"
      },
      "execution_count": 16,
      "outputs": [
        {
          "output_type": "stream",
          "name": "stdout",
          "text": [
            "Before function call:\n",
            "Immutable variable: 5\n",
            "Mutable variable: [1, 2, 3]\n",
            "Inside function before modification:\n",
            "Immutable argument: 5\n",
            "Mutable argument: [1, 2, 3]\n",
            "\n",
            "Inside function after modification:\n",
            "Immutable argument: 15\n",
            "Mutable argument: [1, 2, 3, 10]\n",
            "\n",
            "After function call:\n",
            "Immutable variable: 5\n",
            "Mutable variable: [1, 2, 3, 10]\n"
          ]
        }
      ]
    },
    {
      "cell_type": "code",
      "source": [
        "#7. Basic Arithmetic:\n",
        "\n",
        "\n",
        "a = int(input(\"Enter first number: \"))\n",
        "b = int(input(\"Enter second number: \"))\n",
        "\n",
        "print(\"Addition:\", a + b)\n",
        "print(\"Subtraction:\", a - b)\n",
        "print(\"Multiplication:\", a * b)\n",
        "\n",
        "if b != 0:\n",
        "    print(\"Division:\", a / b)\n",
        "else:\n",
        "    print(\"Division: Cannot divide by zero\")\n",
        "\n"
      ],
      "metadata": {
        "colab": {
          "base_uri": "https://localhost:8080/"
        },
        "id": "9Xfn7AtBOfG5",
        "outputId": "fca05166-7d6d-4014-ef48-3757c9ad029b"
      },
      "execution_count": 28,
      "outputs": [
        {
          "output_type": "stream",
          "name": "stdout",
          "text": [
            "Enter first number: 2\n",
            "Enter second number: 5\n",
            "Addition: 7\n",
            "Subtraction: -3\n",
            "Multiplication: 10\n",
            "Division: 0.4\n"
          ]
        }
      ]
    },
    {
      "cell_type": "code",
      "source": [
        "#8. LOgical operators:\n",
        "\n",
        "a = int(input(\"Enter first number: \"))\n",
        "b = int(input(\"Enter second number: \"))\n",
        "\n",
        "# Logical AND\n",
        "if a > 0 and b > 0:\n",
        "    print(\"Both numbers are positive.\")\n",
        "\n",
        "# Logical OR\n",
        "if a > 0 or b > 0:\n",
        "    print(\"At least one number is positive.\")\n",
        "\n",
        "# Logical NOT\n",
        "if not (a < 0):\n",
        "    print(\"First number is not negative.\")\n"
      ],
      "metadata": {
        "colab": {
          "base_uri": "https://localhost:8080/"
        },
        "id": "JaPD06BsR53p",
        "outputId": "ac336bee-ff1e-4a99-a192-62d0bbc8d933"
      },
      "execution_count": 29,
      "outputs": [
        {
          "output_type": "stream",
          "name": "stdout",
          "text": [
            "Enter first number: 5\n",
            "Enter second number: 4\n",
            "Both numbers are positive.\n",
            "At least one number is positive.\n",
            "First number is not negative.\n"
          ]
        }
      ]
    },
    {
      "cell_type": "code",
      "source": [
        "#9.Program to convert user input string to int, float, and boolean\n",
        "\n",
        "user_input = input(\"Enter a value: \")\n",
        "\n",
        "# Convert to integer\n",
        "try:\n",
        "    int_value = int(user_input)\n",
        "    print(\"Integer:\", int_value)\n",
        "except ValueError:\n",
        "    print(\"Cannot convert to integer\")\n",
        "\n",
        "# Convert to float\n",
        "try:\n",
        "    float_value = float(user_input)\n",
        "    print(\"Float:\", float_value)\n",
        "except ValueError:\n",
        "    print(\"Cannot convert to float\")\n",
        "\n",
        "# Convert to boolean\n",
        "bool_value = bool(user_input)\n",
        "print(\"Boolean:\", bool_value)\n"
      ],
      "metadata": {
        "colab": {
          "base_uri": "https://localhost:8080/"
        },
        "id": "aFaYNHwbSsJw",
        "outputId": "f528ae8d-9a86-4ff2-cb54-5c89a3320c6e"
      },
      "execution_count": 32,
      "outputs": [
        {
          "output_type": "stream",
          "name": "stdout",
          "text": [
            "Enter a value: 21\n",
            "Integer: 21\n",
            "Float: 21.0\n",
            "Boolean: True\n"
          ]
        }
      ]
    },
    {
      "cell_type": "code",
      "source": [
        "#10.Demonstrate type casting with list elements\n",
        "\n",
        "# Original list with string numbers\n",
        "str_list = ['1', '2', '3']\n",
        "\n",
        "# Convert to integers\n",
        "int_list = [int(x) for x in str_list]\n",
        "print(\"Integer list:\", int_list)\n",
        "\n",
        "# Convert to floats\n",
        "float_list = [float(x) for x in str_list]\n",
        "print(\"Float list:\", float_list)\n",
        "\n",
        "# Convert to booleans\n",
        "bool_list = [bool(x) for x in str_list]\n",
        "print(\"Boolean list:\", bool_list)\n"
      ],
      "metadata": {
        "colab": {
          "base_uri": "https://localhost:8080/"
        },
        "id": "VUOH-zt4TiRh",
        "outputId": "b65792db-b7dd-4f94-c343-965e4a457e3a"
      },
      "execution_count": 33,
      "outputs": [
        {
          "output_type": "stream",
          "name": "stdout",
          "text": [
            "Integer list: [1, 2, 3]\n",
            "Float list: [1.0, 2.0, 3.0]\n",
            "Boolean list: [True, True, True]\n"
          ]
        }
      ]
    },
    {
      "cell_type": "code",
      "source": [
        "#11. Program to check if a number is positive, negative, or zero\n",
        "\n",
        "num = float(input(\"Enter a number: \"))\n",
        "\n",
        "if num > 0:\n",
        "    print(\"The number is positive.\")\n",
        "elif num < 0:\n",
        "    print(\"The number is negative.\")\n",
        "else:\n",
        "    print(\"The number is zero.\")\n"
      ],
      "metadata": {
        "colab": {
          "base_uri": "https://localhost:8080/"
        },
        "id": "U5l22kuvUiCR",
        "outputId": "b1529a92-e7a1-4517-b070-c4f69675ced3"
      },
      "execution_count": 35,
      "outputs": [
        {
          "output_type": "stream",
          "name": "stdout",
          "text": [
            "Enter a number: -3\n",
            "The number is negative.\n"
          ]
        }
      ]
    },
    {
      "cell_type": "code",
      "source": [
        "#12.loop to print no. 1 to 10\n",
        "for i in range(1, 11):\n",
        "    print(i)\n",
        "\n"
      ],
      "metadata": {
        "colab": {
          "base_uri": "https://localhost:8080/"
        },
        "id": "-Fzq2vSZVURq",
        "outputId": "385e2a8e-5920-4933-9bab-1b9bc4c08866"
      },
      "execution_count": 36,
      "outputs": [
        {
          "output_type": "stream",
          "name": "stdout",
          "text": [
            "1\n",
            "2\n",
            "3\n",
            "4\n",
            "5\n",
            "6\n",
            "7\n",
            "8\n",
            "9\n",
            "10\n"
          ]
        }
      ]
    },
    {
      "cell_type": "code",
      "source": [
        "#13. Program to find the sum of all even numbers from 1 to 50\n",
        "\n",
        "total = 0\n",
        "\n",
        "for i in range(2, 51, 2):\n",
        "    total += i\n",
        "\n",
        "print(\"Sum of even numbers from 1 to 50 is:\", total)\n"
      ],
      "metadata": {
        "colab": {
          "base_uri": "https://localhost:8080/"
        },
        "id": "TfT4e-vBWB2s",
        "outputId": "9b041d0d-a11e-41bf-825f-22e1496fcaf0"
      },
      "execution_count": 37,
      "outputs": [
        {
          "output_type": "stream",
          "name": "stdout",
          "text": [
            "Sum of even numbers from 1 to 50 is: 650\n"
          ]
        }
      ]
    },
    {
      "cell_type": "code",
      "source": [
        "#14. Program to reverse a string using while loop\n",
        "\n",
        "text = input(\"Enter a string: \")\n",
        "reversed_text = \" \"\n",
        "\n",
        "i = len(text) - 1\n",
        "\n",
        "while i >= 0:\n",
        "    reversed_text += text[i]\n",
        "    i -= 1\n",
        "\n",
        "print(\"Reversed string:\", reversed_text)\n"
      ],
      "metadata": {
        "colab": {
          "base_uri": "https://localhost:8080/"
        },
        "id": "Gfm9HihFWSQg",
        "outputId": "6828e38b-8ae9-4418-ea51-f8b306f43591"
      },
      "execution_count": 39,
      "outputs": [
        {
          "output_type": "stream",
          "name": "stdout",
          "text": [
            "Enter a string: 3 4 5 6 7 8 9 \n",
            "Reversed string:  9 8 7 6 5 4 3\n"
          ]
        }
      ]
    },
    {
      "cell_type": "code",
      "source": [
        "#15. Program to calculate factorial using while loop\n",
        "\n",
        "num = int(input(\"Enter a number: \"))\n",
        "factorial = 1\n",
        "i = 1\n",
        "\n",
        "if num < 0:\n",
        "    print(\"Factorial is not defined for negative numbers.\")\n",
        "else:\n",
        "    while i <= num:\n",
        "        factorial *= i\n",
        "        i += 1\n",
        "    print(f\"Factorial of {num} is: {factorial}\")\n"
      ],
      "metadata": {
        "colab": {
          "base_uri": "https://localhost:8080/"
        },
        "id": "Cs90Lt3LWyv3",
        "outputId": "58724dd8-c628-4e6c-de4c-2b788607d230"
      },
      "execution_count": 43,
      "outputs": [
        {
          "output_type": "stream",
          "name": "stdout",
          "text": [
            "Enter a number: 8\n",
            "Factorial of 8 is: 40320\n"
          ]
        }
      ]
    },
    {
      "cell_type": "markdown",
      "source": [],
      "metadata": {
        "id": "NtVUehuEPkhE"
      }
    }
  ]
}